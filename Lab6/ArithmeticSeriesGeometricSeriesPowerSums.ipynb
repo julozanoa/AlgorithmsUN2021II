{
  "nbformat": 4,
  "nbformat_minor": 0,
  "metadata": {
    "colab": {
      "name": "ArithmeticSeriesGeometricSeriesPowerSums.ipynb",
      "provenance": [],
      "collapsed_sections": [],
      "include_colab_link": true
    },
    "kernelspec": {
      "name": "python3",
      "display_name": "Python 3"
    }
  },
  "cells": [
    {
      "cell_type": "markdown",
      "metadata": {
        "id": "view-in-github",
        "colab_type": "text"
      },
      "source": [
        "<a href=\"https://colab.research.google.com/github/julozanoa/AlgorithmsUN2021II/blob/main/Lab6/ArithmeticSeriesGeometricSeriesPowerSums.ipynb\" target=\"_parent\"><img src=\"https://colab.research.google.com/assets/colab-badge.svg\" alt=\"Open In Colab\"/></a>"
      ]
    },
    {
      "cell_type": "markdown",
      "metadata": {
        "id": "r4rXWI4gCN5B"
      },
      "source": [
        "# Arithmetic Series\n",
        "\n",
        "## Modified from Arithmetic Series -  [Wolfram MathWorld](https://mathworld.wolfram.com/ArithmeticSeries.html) - [wikipedia](https://en.wikipedia.org/wiki/Arithmetic_progression)\n",
        "\n",
        "\n",
        "An arithmetic sequence $\\{a_k\\}$ for $k=1, 2, ..., $ in which each term is computed from the previous one by adding (or subtracting) a constant $d$. \n",
        "\n",
        "\\begin{align*}\n",
        "a_1 & \\\\\n",
        "a_2 &\\ \\ =\\ \\ a_1 + d  \\\\\n",
        "a_3 &\\ \\ =\\ \\ a_2 + d \\ \\ =\\ \\ a_1 + 2d   \\\\\n",
        "a_4 &\\ \\ =\\ \\ a_3 + d \\ \\ =\\ \\ a_2 + 2d \\ \\ =\\ \\ a_1 + 3d  \\\\\n",
        "\\vdots\\\\\n",
        "a_k &\\ \\ =\\ \\ a_{(k-1)}+d \\ =\\  a_{(k-2)}+2d \\ =\\  \\ldots \\ =\\  \\ a_1+(k-1)d\n",
        "\\end{align*}\n",
        "\n",
        "Therefore, for $k>=1$,\n",
        "\n",
        "$$ a_k = a_1 + (k-1)d$$\n",
        "\n",
        "With $a_1$ and $d$ given.\n",
        "\n",
        "<br /> \n",
        "\n",
        "The sequence of the partial sum of the first $n$ terms of a sequence is called a series, in the case of an arithemetic sequence the series is called an arithmetic series.\n",
        "\n",
        "If  $a_1= 1$ and $d=1$ we have, the simplest arithmnetic sequence,  the natural numbers sequence $\\{a_k = k \\}$ for  $k=1, 2, ..., $  i.e. the seuqnece\n",
        "$$1, 2, ...,$$\n",
        "The  corresponding series is \n",
        "$$ \n",
        "S_n = 1 + 2+ \\ldots + (n-1)+ n = \\sum_{k=1}^n k\n",
        "$$\n",
        "can be calculated as a function of $n$.\n",
        "\n",
        "Assume that we allign one $S_{n-1}$ with a second  $S_{n-1}$ that have the terms adden reverse order and you add term to term, we have\n",
        "\\begin{array}{llclclclclc}\n",
        "  S_{n-1} &=& 1 &+& 2 &+& \\ldots &+& (n-2) &+& (n-1) \\\\\n",
        "  S_{n-1} &=& (n-1)  &+& (n-2)  &+& \\ldots   &+& 2   &+& 1 \\\\\n",
        "   \\hline \\\\\n",
        "   2S_{n-1} &=& n  &+& n  &+& \\ldots   &+& n   &+& n \\\\\n",
        "\\end{array}\n",
        "so\n",
        "$$  2S_{n-1} = (n-1)n $$\n",
        "then\n",
        "$$  S_{n-1} = \\frac{1}{2} (n-1)n$$\n",
        "therefore \n",
        "$$  S_{n} = \\frac{1}{2} n(n+1)$$\n",
        "\n",
        "\n",
        "\\begin{align*}\n",
        "S_n &= \\sum_{k=1}^n a_k\t\\\\\n",
        "    &= \\sum_{k=1}^n[a_1+(k-1)d]\t\t\\\\\n",
        "    &= na_1 + d \\sum_{k=1}^n(k-1)\t\\\\\n",
        "    &= na_1 + d \\sum_{k=0}^{n-1} k\t\\\\\n",
        "    &= na_1 + d \\sum_{k=1}^{n-1} k\t\\\\\n",
        "    &= na_1 +  \\frac{1}{2} d(n-1)n\\\\\n",
        "\\end{align*}\n",
        "so \n",
        "$$ S_n =  \\frac{1}{2} n[2 a_1 +d(n-1)].$$\n",
        "\n",
        "Note, however, that\n",
        "$$a_1+a_n=a_1+[a_1+d(n-1)]=2a_1+d(n-1),$$ \t\n",
        "so\n",
        "$$S_n = \\frac{1}{2}n(a_1+a_n),$$\n",
        "\n",
        "\n",
        "or $n$ times the arithmetic mean of the first and last terms! This is the trick Gauss used as a schoolboy to solve the problem of summing the integers from $1$ to $100$ given as busy-work by his teacher. While his classmates toiled away doing the addition longhand, Gauss wrote a single number, the correct answer\n",
        "\n",
        "$$\\frac{1}{2}(100)(1+100)=50·101=5050$$ \t\n",
        "on his slate (Burton 1989, pp. 80-81; Hoffman 1998, p. 207). When the answers were examined, Gauss's proved to be the only correct one.\n",
        "\n",
        "<br /> \n",
        "\n",
        "If  the sequence starts at index $0$, $\\{a_k\\}$ for $ k=0, 1, 2, ..., $ we have\n",
        "\n",
        "\\begin{align*}\n",
        "a_0 & \\\\\n",
        "a_1 &\\ \\ =\\ \\ a_0 + d  \\\\\n",
        "a_2 &\\ \\ =\\ \\ a_1 + d \\ \\ =\\ \\ a_0 + 2d   \\\\\n",
        "a_3 &\\ \\ =\\ \\ a_2 + d \\ \\ =\\ \\ a_1 + 2d \\ \\ =\\ \\ a_0 + 3d  \\\\\n",
        "\\vdots\\\\\n",
        "a_k &\\ \\ =\\ \\ a_{(k-1)}+d \\ =\\  a_{(k-2)}+2d \\ =\\  \\ldots \\ = \\  \\ a_1+(k-1)d \\ \\ =\\ \\ a_0+kd\n",
        "\\end{align*}\n",
        "\n",
        "<br /> \n",
        "for given   $a_0$ and $d$.\n",
        "\n",
        "In this case the sum of the terms between $0$ and $n$ of  the arithemnetic sequence  is then given by\n",
        "\\begin{align*}\n",
        "S_n &= \\sum_{k=0}^{n} a_k\t\\\\\n",
        "    &= \\sum_{k=0}^{n}[a_0+kd]\t\t\\\\\n",
        "    &= (n+1) a_0 + d \\sum_{k=0}^{n} k\t\\\\\n",
        "    &= (n+1) a_0 + d \\sum_{k=1}^{} k\t\\\\\n",
        "    &=(n+1) a_0+  \\frac{1}{2} dn(n+1) \\\\\n",
        "\\end{align*}\n",
        "so \n",
        "$$ S_n =  \\frac{1}{2} (n+1)[2 a_0 + dn].$$\n",
        "<br /> \n",
        "$$ S_n =  \\frac{1}{2} (n+1)[a_0+ a_n].$$\n",
        "\n",
        "\n"
      ]
    },
    {
      "cell_type": "markdown",
      "metadata": {
        "id": "GfBh-QHRcods"
      },
      "source": [
        "### Code\n",
        "####  The simplest arithmetic sequence and series\n",
        "\n",
        "The simplest arithmnetic sequence is \n",
        "\n",
        "\n",
        "$$a_n = 1, 2, ...,$$"
      ]
    },
    {
      "cell_type": "markdown",
      "metadata": {
        "id": "n36eWqEXiktl"
      },
      "source": [
        "The following code plots the first $n = 15$ terms of the simplest arithmnetic sequence \n",
        "$$\\{a_n = n\\} \\text{ for } n =1,2,\\ldots  $$\n",
        "i.e\n",
        "$$\\{a_n = n\\} =1,2,\\ldots $$\n",
        "adn the corresponding terms of the simplest arithmnetic series \n",
        "$$  S_n = 1 + 2+ \\ldots + (n-1)+ n = \\sum_{k=1}^n k=  \\frac{1}{2} n(n+1)$$\n"
      ]
    },
    {
      "cell_type": "markdown",
      "metadata": {
        "id": "_VyGiunIZknK"
      },
      "source": [
        "Plot"
      ]
    },
    {
      "cell_type": "code",
      "metadata": {
        "colab": {
          "base_uri": "https://localhost:8080/",
          "height": 282
        },
        "id": "gx3Q4uo-ONCi",
        "outputId": "7a04efd7-671a-4174-c1d1-2f66660ac5cb"
      },
      "source": [
        "import matplotlib.pyplot as plt\n",
        "\n",
        "n = 15\n",
        "S_n = 0\n",
        "Serie_S_n=[]\n",
        "Sequence_a_n =[]\n",
        "for i in range(1,n+1):\n",
        "  S_n = S_n + i\n",
        "  Serie_S_n.append(S_n)\n",
        "  Sequence_a_n.append(i)\n",
        " \n",
        "\n",
        "plt.plot(Serie_S_n, color='black',label='Serie_S_n')\n",
        "plt.plot(Sequence_a_n, color='red',label='Sequence_a_n')\n",
        "plt.legend()\n",
        "\n",
        "\n"
      ],
      "execution_count": null,
      "outputs": [
        {
          "output_type": "execute_result",
          "data": {
            "text/plain": [
              "<matplotlib.legend.Legend at 0x7f6ce4f531d0>"
            ]
          },
          "metadata": {},
          "execution_count": 8
        },
        {
          "output_type": "display_data",
          "data": {
            "image/png": "[encoded data removed]",
            "text/plain": [
              "<Figure size 432x288 with 1 Axes>"
            ]
          },
          "metadata": {
            "needs_background": "light"
          }
        }
      ]
    },
    {
      "cell_type": "code",
      "metadata": {
        "colab": {
          "base_uri": "https://localhost:8080/"
        },
        "id": "o2es6b4cysQk",
        "outputId": "8f347f15-4b85-45e8-a1b7-57baaaea323c"
      },
      "source": [
        "Sequence_a_n"
      ],
      "execution_count": null,
      "outputs": [
        {
          "output_type": "execute_result",
          "data": {
            "text/plain": [
              "[1, 2, 3, 4, 5, 6, 7, 8, 9, 10, 11, 12, 13, 14, 15]"
            ]
          },
          "metadata": {},
          "execution_count": 9
        }
      ]
    },
    {
      "cell_type": "code",
      "metadata": {
        "colab": {
          "base_uri": "https://localhost:8080/"
        },
        "id": "T2VeBOBZ0ibg",
        "outputId": "13b23828-e349-4887-f8d9-32ffe82f3974"
      },
      "source": [
        "Serie_S_n"
      ],
      "execution_count": null,
      "outputs": [
        {
          "output_type": "execute_result",
          "data": {
            "text/plain": [
              "[1, 3, 6, 10, 15, 21, 28, 36, 45, 55, 66, 78, 91, 105, 120]"
            ]
          },
          "metadata": {},
          "execution_count": 10
        }
      ]
    },
    {
      "cell_type": "markdown",
      "metadata": {
        "id": "0ybfJdHxZGvW"
      },
      "source": [
        "The following code computes the  $n=10000000$  term of the airthmetic series\n",
        "$$  S_n = 1 + 2+ \\ldots + (n-1)+ n = \\sum_{k=1}^n =  \\frac{1}{2} n(n+1)$$"
      ]
    },
    {
      "cell_type": "code",
      "metadata": {
        "colab": {
          "base_uri": "https://localhost:8080/"
        },
        "id": "99xYHDQycnol",
        "outputId": "0f6e5bd8-e642-4513-f6e5-35ee4bb4874a"
      },
      "source": [
        "n = 10000000\n",
        "S_n = 0\n",
        "for i in range(1,n+1):  # range(n+1) goes form 1 to n\n",
        "  S_n = S_n + i \n",
        "print(S_n)"
      ],
      "execution_count": null,
      "outputs": [
        {
          "output_type": "stream",
          "name": "stdout",
          "text": [
            "50000005000000\n"
          ]
        }
      ]
    },
    {
      "cell_type": "code",
      "metadata": {
        "colab": {
          "base_uri": "https://localhost:8080/"
        },
        "id": "RGCSuDGHeFwH",
        "outputId": "c79fc177-0c44-4e87-d4e0-fce71cadf034"
      },
      "source": [
        "(1/2)*n*(n+1)"
      ],
      "execution_count": null,
      "outputs": [
        {
          "output_type": "execute_result",
          "data": {
            "text/plain": [
              "50000005000000.0"
            ]
          },
          "metadata": {},
          "execution_count": 12
        }
      ]
    },
    {
      "cell_type": "markdown",
      "metadata": {
        "id": "bg8zxAhcecpk"
      },
      "source": [
        "The following code computes the $n=10000000$ term of the airthmetic series \n",
        "$$ S_n  = \\sum_{k=1}^n a_k$$\n",
        "\n",
        "<br /> \n",
        "for the airthmetic sequence $a_k = 10 + 3 (k-1) $ for $k=1,2,\\ldots$\n",
        "\n",
        "<br /> \n",
        "$$ 10,13,16,19,21,\\ldots$$\n"
      ]
    },
    {
      "cell_type": "markdown",
      "metadata": {
        "id": "hg3ixQ3bZiVh"
      },
      "source": [
        "Plot"
      ]
    },
    {
      "cell_type": "code",
      "metadata": {
        "colab": {
          "base_uri": "https://localhost:8080/"
        },
        "id": "w8FP1XqSgnie",
        "outputId": "2010c2c6-288c-4e98-c0b1-13925ae1428a"
      },
      "source": [
        "n = 10000000\n",
        "a = 10\n",
        "d = 3\n",
        "S_n = 0\n",
        "for i in range(1,n+1):  # range(n+19 goes form 1 to n\n",
        "  a_n = a + d * (i-1) \n",
        "  S_n = S_n + a_n\n",
        "print(S_n)"
      ],
      "execution_count": null,
      "outputs": [
        {
          "output_type": "stream",
          "name": "stdout",
          "text": [
            "150000085000000\n"
          ]
        }
      ]
    },
    {
      "cell_type": "code",
      "metadata": {
        "colab": {
          "base_uri": "https://localhost:8080/"
        },
        "id": "g_38RfB_hgg2",
        "outputId": "f6d6b43f-1afb-45d9-d0d7-debe5b6d48bd"
      },
      "source": [
        "n*(2*a +d*(n-1))/2"
      ],
      "execution_count": null,
      "outputs": [
        {
          "output_type": "execute_result",
          "data": {
            "text/plain": [
              "150000085000000.0"
            ]
          },
          "metadata": {},
          "execution_count": 14
        }
      ]
    },
    {
      "cell_type": "code",
      "metadata": {
        "colab": {
          "base_uri": "https://localhost:8080/"
        },
        "id": "zS3qb_xE1u58",
        "outputId": "16306927-e8e9-475c-eaa9-5b69acd1d64d"
      },
      "source": [
        "n*(a +a_n)/2"
      ],
      "execution_count": null,
      "outputs": [
        {
          "output_type": "execute_result",
          "data": {
            "text/plain": [
              "150000085000000.0"
            ]
          },
          "metadata": {},
          "execution_count": 15
        }
      ]
    },
    {
      "cell_type": "code",
      "metadata": {
        "colab": {
          "base_uri": "https://localhost:8080/",
          "height": 284
        },
        "id": "7qesKez70zub",
        "outputId": "aa0d5a3e-f0ef-4ae6-b335-dee18f4d1276"
      },
      "source": [
        "import matplotlib.pyplot as plt\n",
        "\n",
        "n = 20\n",
        "a = 10\n",
        "d = 3\n",
        "S_n = 0\n",
        "Serie_S_n=[]\n",
        "Sequence_a_n =[]\n",
        "for i in range(1,n+1):  # range(n+19 goes form 1 to n\n",
        "  a_n = a + d * (i-1) \n",
        "  S_n = S_n + a_n\n",
        "  Serie_S_n.append(S_n)\n",
        "  Sequence_a_n.append(a_n)\n",
        "\n",
        "plt.plot(Serie_S_n, color='black',label='Serie_S_n')\n",
        "plt.plot(Sequence_a_n, color='red',label='Sequence_a_n')\n",
        "plt.legend()"
      ],
      "execution_count": null,
      "outputs": [
        {
          "output_type": "execute_result",
          "data": {
            "text/plain": [
              "<matplotlib.legend.Legend at 0x7f6ce5457410>"
            ]
          },
          "metadata": {},
          "execution_count": 16
        },
        {
          "output_type": "display_data",
          "data": {
            "image/png": "[encoded data removed]",
            "text/plain": [
              "<Figure size 432x288 with 1 Axes>"
            ]
          },
          "metadata": {
            "needs_background": "light"
          }
        }
      ]
    },
    {
      "cell_type": "markdown",
      "metadata": {
        "id": "r9qzONSlZq2q"
      },
      "source": [
        "## **Your own example of arithmetic series** "
      ]
    },
    {
      "cell_type": "markdown",
      "metadata": {
        "id": "_wtOofY1zoeU"
      },
      "source": [
        "**First example:**"
      ]
    },
    {
      "cell_type": "markdown",
      "metadata": {
        "id": "u8JijrFA1ox0"
      },
      "source": [
        "The following code computes the $n=33123520$ term of the airthmetic series \n",
        "\n",
        "---\n",
        "\n",
        "\n",
        "$$ S_n  = \\sum_{k=1}^n a_k$$\n",
        "\n",
        "<br /> \n",
        "for the airthmetic sequence $a_k = 5 + 14 (k-1) $ for $k=1,2,\\ldots$\n",
        "\n",
        "<br /> \n",
        "$$ 5,19,33,47,61,\\ldots$$\n"
      ]
    },
    {
      "cell_type": "markdown",
      "metadata": {
        "id": "spRxDs6m4TFS"
      },
      "source": [
        "With loop:"
      ]
    },
    {
      "cell_type": "code",
      "metadata": {
        "id": "SrJ_dPxS0pwP",
        "colab": {
          "base_uri": "https://localhost:8080/"
        },
        "outputId": "397e9bf8-470d-4cab-cf4b-0473452aa099"
      },
      "source": [
        "n = 33123520\n",
        "a = 5\n",
        "d = 14\n",
        "S_n = 0\n",
        "for i in range(1,n+1):  # range(n+19 goes form 1 to n\n",
        "  a_n = a + d * (i-1) \n",
        "  S_n = S_n + a_n\n",
        "print(S_n)"
      ],
      "execution_count": null,
      "outputs": [
        {
          "output_type": "stream",
          "name": "stdout",
          "text": [
            "7680172974085760\n"
          ]
        }
      ]
    },
    {
      "cell_type": "markdown",
      "metadata": {
        "id": "lczlRQVF4WK6"
      },
      "source": [
        "With first equation:\n",
        "$$ S_n =  \\frac{1}{2} n[2 a_1 +d(n-1)].$$"
      ]
    },
    {
      "cell_type": "code",
      "metadata": {
        "colab": {
          "base_uri": "https://localhost:8080/"
        },
        "id": "NPpTVS442I_T",
        "outputId": "7f8242db-ab18-48f9-856e-c7d5dad96423"
      },
      "source": [
        "n*(2*a +d*(n-1))/2"
      ],
      "execution_count": null,
      "outputs": [
        {
          "output_type": "execute_result",
          "data": {
            "text/plain": [
              "7680172974085760.0"
            ]
          },
          "metadata": {},
          "execution_count": 11
        }
      ]
    },
    {
      "cell_type": "markdown",
      "metadata": {
        "id": "nzECfV774aWO"
      },
      "source": [
        "With second equation:\n",
        "$$S_n = \\frac{1}{2}n(a_1+a_n),$$"
      ]
    },
    {
      "cell_type": "code",
      "metadata": {
        "colab": {
          "base_uri": "https://localhost:8080/"
        },
        "id": "Rn3SxamG27Xf",
        "outputId": "c112d08b-d9a9-433f-ad16-596dec564a16"
      },
      "source": [
        "n*(a +a_n)/2"
      ],
      "execution_count": null,
      "outputs": [
        {
          "output_type": "execute_result",
          "data": {
            "text/plain": [
              "7680172974085760.0"
            ]
          },
          "metadata": {},
          "execution_count": 12
        }
      ]
    },
    {
      "cell_type": "markdown",
      "metadata": {
        "id": "Fi3_TXZJ6g_N"
      },
      "source": [
        "Plot:"
      ]
    },
    {
      "cell_type": "code",
      "metadata": {
        "colab": {
          "base_uri": "https://localhost:8080/",
          "height": 293
        },
        "id": "B-XdggXG6iWP",
        "outputId": "14f9361e-6d8e-44c6-b373-ea04f2152d92"
      },
      "source": [
        "import matplotlib.pyplot as plt\n",
        "\n",
        "n = 1000\n",
        "a = 5\n",
        "d = 14\n",
        "S_n = 0\n",
        "Serie_S_n=[]\n",
        "Sequence_a_n =[]\n",
        "for i in range(1,n+1):  # range(n+19 goes form 1 to n\n",
        "  a_n = a + d * (i-1) \n",
        "  S_n = S_n + a_n\n",
        "  Serie_S_n.append(S_n)\n",
        "  Sequence_a_n.append(a_n)\n",
        "\n",
        "plt.plot(Serie_S_n, color='black',label='Serie_S_n')\n",
        "plt.plot(Sequence_a_n, color='red',label='Sequence_a_n')\n",
        "plt.legend()"
      ],
      "execution_count": null,
      "outputs": [
        {
          "output_type": "execute_result",
          "data": {
            "text/plain": [
              "<matplotlib.legend.Legend at 0x7f680311b6d0>"
            ]
          },
          "metadata": {},
          "execution_count": 1
        },
        {
          "output_type": "display_data",
          "data": {
            "image/png": "[encoded data removed]",
            "text/plain": [
              "<Figure size 432x288 with 1 Axes>"
            ]
          },
          "metadata": {
            "needs_background": "light"
          }
        }
      ]
    },
    {
      "cell_type": "markdown",
      "metadata": {
        "id": "57bDptBn45y5"
      },
      "source": [
        "**Second example:**"
      ]
    },
    {
      "cell_type": "markdown",
      "metadata": {
        "id": "xnd13Ifl5AZj"
      },
      "source": [
        "The following code computes the $n=7777777$ term of the airthmetic series \n",
        "\n",
        "---\n",
        "\n",
        "\n",
        "$$ S_n  = \\sum_{k=1}^n a_k$$\n",
        "\n",
        "<br /> \n",
        "for the airthmetic sequence $a_k = 0 + 45 (k-1) $ for $k=1,2,\\ldots$\n",
        "\n",
        "<br /> \n",
        "$$ 0,45,90,135,180,\\ldots$$\n"
      ]
    },
    {
      "cell_type": "markdown",
      "metadata": {
        "id": "0blQbTw95Wna"
      },
      "source": [
        "With loop:"
      ]
    },
    {
      "cell_type": "code",
      "metadata": {
        "colab": {
          "base_uri": "https://localhost:8080/"
        },
        "id": "RsGKiabm5YHX",
        "outputId": "57587375-5d73-4ea4-fb0d-bcca4f97111d"
      },
      "source": [
        "n = 7777777\n",
        "a = 0\n",
        "d = 45\n",
        "S_n = 0\n",
        "for i in range(1,n+1):  # range(n+19 goes form 1 to n\n",
        "  a_n = a + d * (i-1) \n",
        "  S_n = S_n + a_n\n",
        "print(S_n)"
      ],
      "execution_count": null,
      "outputs": [
        {
          "output_type": "stream",
          "name": "stdout",
          "text": [
            "1361110663888920\n"
          ]
        }
      ]
    },
    {
      "cell_type": "markdown",
      "metadata": {
        "id": "C6uMBD7m5qKR"
      },
      "source": [
        "With first equation:\n",
        "$$ S_n =  \\frac{1}{2} n[2 a_1 +d(n-1)].$$"
      ]
    },
    {
      "cell_type": "code",
      "metadata": {
        "colab": {
          "base_uri": "https://localhost:8080/"
        },
        "id": "OKSkdps_5xpR",
        "outputId": "8c1ba16b-6e31-4c12-979d-fba91a02439f"
      },
      "source": [
        "n*(2*a +d*(n-1))/2"
      ],
      "execution_count": null,
      "outputs": [
        {
          "output_type": "execute_result",
          "data": {
            "text/plain": [
              "1361110663888920.0"
            ]
          },
          "metadata": {},
          "execution_count": 15
        }
      ]
    },
    {
      "cell_type": "markdown",
      "metadata": {
        "id": "Tu0gmAS356Ey"
      },
      "source": [
        "With second equation:"
      ]
    },
    {
      "cell_type": "markdown",
      "metadata": {
        "id": "dwniyk826HKR"
      },
      "source": [
        "$$S_n = \\frac{1}{2}n(a_1+a_n),$$"
      ]
    },
    {
      "cell_type": "code",
      "metadata": {
        "colab": {
          "base_uri": "https://localhost:8080/"
        },
        "id": "T8yIStGQ52j3",
        "outputId": "dcde257e-37d0-46ae-b34a-52c167a35a46"
      },
      "source": [
        "n*(a +a_n)/2"
      ],
      "execution_count": null,
      "outputs": [
        {
          "output_type": "execute_result",
          "data": {
            "text/plain": [
              "1361110663888920.0"
            ]
          },
          "metadata": {},
          "execution_count": 16
        }
      ]
    },
    {
      "cell_type": "markdown",
      "metadata": {
        "id": "BBTVGNa27TyK"
      },
      "source": [
        "Plot:"
      ]
    },
    {
      "cell_type": "code",
      "metadata": {
        "colab": {
          "base_uri": "https://localhost:8080/",
          "height": 293
        },
        "id": "oZtBV9Mo7VnO",
        "outputId": "5834e7c3-c2ec-422e-9e78-5d2cc0bff137"
      },
      "source": [
        "import matplotlib.pyplot as plt\n",
        "\n",
        "n = 1000\n",
        "a = 0\n",
        "d = 45\n",
        "S_n = 0\n",
        "Serie_S_n=[]\n",
        "Sequence_a_n =[]\n",
        "for i in range(1,n+1):  # range(n+19 goes form 1 to n\n",
        "  a_n = a + d * (i-1) \n",
        "  S_n = S_n + a_n\n",
        "  Serie_S_n.append(S_n)\n",
        "  Sequence_a_n.append(a_n)\n",
        "\n",
        "plt.plot(Serie_S_n, color='black',label='Serie_S_n')\n",
        "plt.plot(Sequence_a_n, color='red',label='Sequence_a_n')\n",
        "plt.legend()"
      ],
      "execution_count": null,
      "outputs": [
        {
          "output_type": "execute_result",
          "data": {
            "text/plain": [
              "<matplotlib.legend.Legend at 0x7f6802bacbd0>"
            ]
          },
          "metadata": {},
          "execution_count": 2
        },
        {
          "output_type": "display_data",
          "data": {
            "image/png": "[encoded data removed]",
            "text/plain": [
              "<Figure size 432x288 with 1 Axes>"
            ]
          },
          "metadata": {
            "needs_background": "light"
          }
        }
      ]
    },
    {
      "cell_type": "markdown",
      "metadata": {
        "id": "AKWJ1F7hac8T"
      },
      "source": [
        "# Geometric Series\n",
        "\n",
        "## Modified from Geometric Series -  [Wolfram MathWorld](https://mathworld.wolfram.com/GeometricSeries.html) - [wikipedia](https://en.wikipedia.org/wiki/Geometric_series)\n"
      ]
    },
    {
      "cell_type": "markdown",
      "metadata": {
        "id": "W5zx_-nR81GI"
      },
      "source": [
        "An geometric series is the sum of a sequence $\\{a_k\\}$ for $k=1, 2, ..., $ in which each term is computed from the previous one by adding (or subtracting) a constant $d$. \n",
        "\n",
        "\\begin{align*}\n",
        "a_0 &\\ \\ =\\ \\ r^0 \\ \\ =\\ \\ 1\\\\\n",
        "a_1 &\\ \\ =\\ \\ a_0 *  r \\ \\ =\\ \\  r\\\\\n",
        "a_2 &\\ \\ =\\ \\ a_1 * r\\ \\ =\\ \\ a_0 * r^2  \\ \\ =\\ \\ r^2 \\\\\n",
        "a_3 &\\ \\ =\\ \\ a_2 * r \\ \\ =\\ \\ a_0 * r^3 \\ \\ =\\ \\  r^3  \\\\\n",
        "a_4 &\\ \\ =\\ \\ a_3 * r\\ \\  =\\ \\ a_0 * r^4 \\ \\  =\\ \\ r^4  \\\\\n",
        "\\vdots\\\\\n",
        "a_k &\\ \\ =\\ \\ a_{(k-1)}* r \\ =\\   a_0 * r^k \\ \\  =\\ \\  r^k\n",
        "\\end{align*}\n",
        "\n",
        "The sum of the first $n$ terms  of  the geometric sequence (called an geometric serie)  is then given by\n",
        "$$\n",
        "\\begin{array}{ll}\n",
        "S_n &=  1 + r + r^2 + \\cdots + r^{n-1} +r^n \\\\\n",
        " &=  (1 + r + r^2 + \\cdots + r^{n-1} ) +r^n \\\\\n",
        " &= S_{n-1}  +r^n \n",
        "\\end{array}\n",
        "$$\n",
        "\n",
        "$$\n",
        "\\begin{array}{ll}\n",
        "S_n &=  1 + r + r^2 + \\cdots + r^{n-1} +r^n \\\\\n",
        " &=  1 + (r + r^2 + \\cdots + r^{n-1}  +r^n)  \\\\\n",
        " &=   1 + r (1 +  r  + r^2 + \\cdots + r^{n-1} )  \\\\\n",
        "  &=   1 + r   S_{n-1} \n",
        "\\end{array}\n",
        "$$\n",
        "\n",
        "Then\n",
        "$$\n",
        " S_{n-1}  +r^n =   1 + r   S_{n-1} \n",
        "$$\n",
        "\n",
        "Therefore\n",
        "$$\n",
        " S_{n-1} (1 -r)   +r^n =   1 - r^n \n",
        "$$\n",
        "\n",
        "$$\n",
        " S_{n-1}   =   \\frac{1 - r^n }{1 -r}\n",
        "$$\n",
        "\n",
        "$$\n",
        " S_{n}   =   \\frac{1 - r^{n+1} }{1 -r}  = \\frac{ r^{n+1} - 1}{r -1}\n",
        "$$\n"
      ]
    },
    {
      "cell_type": "markdown",
      "metadata": {
        "id": "CDUYfT8k8crr"
      },
      "source": [
        "## Nodes in Complete Binary Tree with $L=0,1,2,\\cdots , L-1$ levels \n",
        "\n",
        "![](https://raw.githubusercontent.com/gjhernandezp/algorithms/master/Lab7/ComBinTree.png)\n",
        "\n",
        "In a complete binary tree you have in ecah level $k =0,1,2,\\cdots $  $ 2^k $\n",
        "\n",
        "$$\n",
        "\\begin{array}{ll}\n",
        "\\text {Level } 0 \\rightarrow 2^0 = 1 \\text { node (root)} \\\\\n",
        "\\text {Level } 1 \\rightarrow 2^1 = 2 \\text { nodes} \\\\\n",
        "\\text {Level } 2 \\rightarrow 2^2 = 4 \\text { nodes} \\\\\n",
        "\\text {Level } 3 \\rightarrow 2^3 = 8 \\text { nodes} \\\\\n",
        "\\vdots\\\\\n",
        "\\text {Level } k \\rightarrow 2^k  \\text { nodes} \\\\\n",
        "\\end{array}\n",
        "$$\n",
        "\n",
        "nodes, with $l = 0,1,2, ... $ the level\n",
        "\n",
        "Total number of the complte tree with $L=0,1,2,\\cdots , L-1$ levels\n",
        "\n",
        "$$ \n",
        "2^0 + 2^1 + 2^2 + \\cdots +2^{L-1}  = 1 + 2 + 4 + \\cdots +2^{L-1} = \\sum_{k=0}^{L-1} 2^k = \\frac{ 2^{L} - 1}{2 -1} = 2^{L} - 1\n",
        "$$"
      ]
    },
    {
      "cell_type": "markdown",
      "metadata": {
        "id": "YiWlrhLZNMX9"
      },
      "source": [
        "### Code"
      ]
    },
    {
      "cell_type": "code",
      "metadata": {
        "id": "YvMkYU8UNOll",
        "colab": {
          "base_uri": "https://localhost:8080/"
        },
        "outputId": "543e5bf1-d46d-4865-db5d-7aacf2a00473"
      },
      "source": [
        "l = 9\n",
        "l_1 = l-1\n",
        "num = 2**l_1\n",
        "print(num)"
      ],
      "execution_count": null,
      "outputs": [
        {
          "output_type": "stream",
          "name": "stdout",
          "text": [
            "256\n"
          ]
        }
      ]
    },
    {
      "cell_type": "code",
      "metadata": {
        "id": "8Y_b2Jkgh4ql",
        "colab": {
          "base_uri": "https://localhost:8080/"
        },
        "outputId": "dd7d8afe-fb87-4141-e960-e9b8f2a4e480"
      },
      "source": [
        "a_n = 0\n",
        "S_n = 1\n",
        "l = 9\n",
        "l_1 = l-1\n",
        "for i in range(l_1):\n",
        "   a_n  =  2**i\n",
        "   S_n = S_n + a_n\n",
        "   \n",
        "\n",
        "print(S_n)  "
      ],
      "execution_count": null,
      "outputs": [
        {
          "output_type": "stream",
          "name": "stdout",
          "text": [
            "256\n"
          ]
        }
      ]
    },
    {
      "cell_type": "code",
      "metadata": {
        "colab": {
          "base_uri": "https://localhost:8080/",
          "height": 282
        },
        "id": "nGOBatH2CDRb",
        "outputId": "90b4685b-a338-44b9-fee2-f055a3d17561"
      },
      "source": [
        "a_n = 0\n",
        "S_n = 1\n",
        "l = 9\n",
        "l_1 = l-1\n",
        "Serie_S_n=[]\n",
        "Sequence_a_n =[]\n",
        "for i in range(l_1):\n",
        "   a_n  =  2**i\n",
        "   S_n = S_n + a_n\n",
        "   Serie_S_n.append(S_n)\n",
        "   Sequence_a_n.append(a_n)\n",
        "   \n",
        "plt.plot(Serie_S_n, color='black',label='Serie_S_n')\n",
        "plt.plot(Sequence_a_n, color='red',label='Sequence_a_n')\n",
        "plt.legend()\n",
        "  "
      ],
      "execution_count": null,
      "outputs": [
        {
          "output_type": "execute_result",
          "data": {
            "text/plain": [
              "<matplotlib.legend.Legend at 0x7f6ce531fb10>"
            ]
          },
          "metadata": {},
          "execution_count": 19
        },
        {
          "output_type": "display_data",
          "data": {
            "image/png": "[encoded data removed]",
            "text/plain": [
              "<Figure size 432x288 with 1 Axes>"
            ]
          },
          "metadata": {
            "needs_background": "light"
          }
        }
      ]
    },
    {
      "cell_type": "markdown",
      "metadata": {
        "id": "Dd3RWDwJe2xD"
      },
      "source": [
        "## Zenon Arrow\n",
        "\n",
        "![](https://raw.githubusercontent.com/gjhernandezp/algorithms/master/Lab7/zeno-paradox-arrow.png)\n",
        "\n",
        "https://leseditionsdeschavonnes.com/2018/10/15/the-paradox-of-achilles-and-the-tortoise/\n",
        "\n",
        "\n",
        "\n",
        "$$ \n",
        "\\lim_{n\\rightarrow \\infty} \\left\\{\\left(\\frac{1}{2}\\right)^0 + \\left(\\frac{1}{2}\\right)^1 +\\left(\\frac{1}{2}\\right)^2 + \\cdots +\\left(\\frac{1}{2}\\right)^{n} \\right\\} = \\lim_{n\\rightarrow \\infty} \\left\\{ 1 +\\frac{1}{2} + \\frac{1}{4} + \\frac{1}{8} + \\cdots +\\frac{1}{2^{n}}\\right\\}  = \\lim_{n\\rightarrow \\infty} \\sum_{k=0}^{n} \\left(\\frac{1}{2}\\right)^k = \\lim_{n\\rightarrow \\infty} \\frac{ 1- \\left(\\frac{1}{2}\\right)^n  }{1 - \\left(\\frac{1}{2}\\right) } = \\frac{ 1}{1 - \\left(\\frac{1}{2}\\right)} = 2\n",
        "$$"
      ]
    },
    {
      "cell_type": "markdown",
      "metadata": {
        "id": "R-J4EekBNPkd"
      },
      "source": [
        "### Code"
      ]
    },
    {
      "cell_type": "code",
      "metadata": {
        "colab": {
          "base_uri": "https://localhost:8080/"
        },
        "id": "6-M6QWBp42Ub",
        "outputId": "839aa19f-25df-4a06-cfd4-3e4794a9cb21"
      },
      "source": [
        "s_n = 0\n",
        "s_n = 1/(1-(1/2))\n",
        "print(s_n)"
      ],
      "execution_count": null,
      "outputs": [
        {
          "output_type": "stream",
          "name": "stdout",
          "text": [
            "2.0\n"
          ]
        }
      ]
    },
    {
      "cell_type": "code",
      "metadata": {
        "id": "8xdBovY3NEW_",
        "colab": {
          "base_uri": "https://localhost:8080/"
        },
        "outputId": "3aa90f48-8b0e-4e8d-ede8-cc06169c1069"
      },
      "source": [
        "a_n = 0\n",
        "S_n = 0\n",
        "l = 99999\n",
        "l_1 = l-1\n",
        "for i in range(l_1):\n",
        "   a_n  =  1/2**i\n",
        "   S_n = S_n + a_n\n",
        "   \n",
        "\n",
        "print(S_n) "
      ],
      "execution_count": null,
      "outputs": [
        {
          "output_type": "stream",
          "name": "stdout",
          "text": [
            "2.0\n"
          ]
        }
      ]
    },
    {
      "cell_type": "code",
      "metadata": {
        "colab": {
          "base_uri": "https://localhost:8080/",
          "height": 282
        },
        "id": "MmkoR2gR5fe2",
        "outputId": "4b92cb12-2e06-4ab2-e17a-4854f1f64b6b"
      },
      "source": [
        "a_n = 0\n",
        "S_n = 0\n",
        "l = 99999\n",
        "l_1 = l-1\n",
        "Serie_S_n=[]\n",
        "Sequence_a_n =[]\n",
        "for i in range(l_1):\n",
        "   a_n  =  1/2**i\n",
        "   S_n = S_n + a_n\n",
        "   Serie_S_n.append(S_n)\n",
        "   Sequence_a_n.append(a_n)\n",
        "plt.plot(Serie_S_n, color='black',label='Serie_S_n')\n",
        "plt.plot(Sequence_a_n, color='red',label='Sequence_a_n')\n",
        "plt.legend()   "
      ],
      "execution_count": null,
      "outputs": [
        {
          "output_type": "execute_result",
          "data": {
            "text/plain": [
              "<matplotlib.legend.Legend at 0x7f6ce524de50>"
            ]
          },
          "metadata": {},
          "execution_count": 22
        },
        {
          "output_type": "display_data",
          "data": {
            "image/png": "[encoded data removed]",
            "text/plain": [
              "<Figure size 432x288 with 1 Axes>"
            ]
          },
          "metadata": {
            "needs_background": "light"
          }
        }
      ]
    },
    {
      "cell_type": "markdown",
      "metadata": {
        "id": "dh2ntBeoNQlN"
      },
      "source": [
        "# Power Sums Power Sums - [Wolfram MathWorld](https://mathworld.wolfram.com/PowerSum.html) - [wikipedia](https://en.wikipedia.org/wiki/Sums_of_powers) - [reserachgate](https://www.researchgate.net/publication/331933608_The_Powers_Sums_Bernoulli_Numbers_Bernoulli_Polynomials_Rethinked)\n",
        "\n"
      ]
    },
    {
      "cell_type": "markdown",
      "metadata": {
        "id": "UAU_WwOxMb6z"
      },
      "source": [
        "There are two kinds of power sums commonly considered. The first is the sum of _p_th powers of a set of _n_ variables \\\\(x_k\\\\)\n",
        "\n",
        "\\begin{aligned}\n",
        "s_p(x_1,...,x_n)=\\sum_{k=1}^{n}x^{p}_k \\hspace{1em}(1)\n",
        "\\end{aligned} \n",
        "\n",
        "\n",
        "and the second is the special case \\\\(x_k=k\\\\), i.e.,\n",
        "\n",
        "\\begin{aligned}\n",
        "s_p(n)=\\sum_{k=1}^{n}k^{p} \\hspace{1em}(2)\n",
        "\\end{aligned} \n",
        "\n",
        "General power sums arise commonly in statistics. For example, k-statistics are most commonly defined in terms of power sums. Power sums are related to symmetric polynomials by the Newton-Girard formulas.\n",
        "\n",
        "The sum of \\\\(k\\\\) times the kth power of \\\\(x\\\\) is given analytically by\n",
        "\n",
        "\\begin{aligned}\n",
        "sum_{k=0}^{n}kx^k=\\frac{x-(n+1)x^{n+1}+nx^{n+2}}{(x-1)^2} \\hspace{1em}(3)\n",
        "\\end{aligned} \n",
        "\n",
        "Other analytic sums include\n",
        "\n",
        "\n",
        "\\begin{aligned}\n",
        "\\left(\\sum_{k=0}^{\\infty} x^{k}\\right)^{p} &=(1-x)^{-p} \\hspace{1em}(4)\\\\\n",
        "&=\\frac{1}{(p-1) !} \\sum_{n=0}^{\\infty} \\frac{(n+p-1) !}{n !} x^{n} \\hspace{2em}(5)\\\\\n",
        "&=\\frac{1}{(p-1) !} \\sum_{n=0}^{\\infty}(n+1)_{p-1} x^{n} \\hspace{1em}(6)\n",
        "\\end{aligned} \n",
        "\n",
        "for \\\\(|x|<1\\\\), where \\\\((n)_p\\\\) is a Pochhammer symbol. The finite version has the elegant closed form\n",
        "\n",
        "\\begin{aligned}\n",
        "\\left(\\sum_{k=0}^{n} x^{k}\\right)^{p}=\\frac{1}{(p-1) !} \\sum_{k=0}^{n p} \\frac{(n-|n-k|+p-1) !}{(n-|n-k|) !} x^{k} \\hspace{1em}(7)\n",
        "\\end{aligned} \n",
        "\n",
        "for \\\\(p=1\\\\) and 2. An additional sum is given by\n",
        "\n",
        "\\begin{aligned}\n",
        "\\left(\\sum_{n=0}^{\\infty} a_{n} x^{n}\\right)^{2}=\\sum_{n=0}^{\\infty} a_{n}^{2} x^{2 n}+2 \\sum_{{n=1 \\atop i+j=n} \\atop i<j }^{\\infty} a_{i} a_{j} x^{n} \\hspace{1em}(8)\n",
        "\\end{aligned} \n",
        "\n",
        "An analytic solution for a sum of powers of integers is\n",
        "\n",
        "\\begin{aligned}\n",
        "S_{p}(n) &=\\sum_{k=1}^{n} k^{p} \\hspace{1em}(9) \\\\\n",
        "&=\\zeta(-p)-\\zeta(-p, 1+n) \\hspace{1em}(10)\\\\\n",
        "&=H_{n}^{(-p)} \\hspace{1em}(11)\n",
        "\\end{aligned}\n",
        "\n",
        "where \\\\(\\zeta(z)\\\\) is the Riemann zeta function, \\\\(\\zeta(z;a)\\\\) is the Hurwitz zeta function, and \\\\(H_n^{(k)}\\\\) is a generalized harmonic number. For the special case of \\\\(p\\\\) a positive integer, Faulhaber's formula gives the sum explicitly as\n",
        "\n",
        "\\begin{aligned}\n",
        "S_{p}(n)=\\frac{1}{p+1} \\sum_{k=1}^{p+1}(-1)^{\\delta_{k p}}\\left(\\begin{array}{c}\n",
        "p+1 \\\\\n",
        "k\n",
        "\\end{array}\\right) B_{p+1-k} n^{k} \\hspace{1em}(12)\n",
        "\\end{aligned}\n",
        "\n",
        "where \\\\(\\delta_{(kp)}\\\\) is the Kronecker delta, \\\\(\\binom{n}{k}\\\\) is a binomial coefficient, and \\\\(B_k\\\\) is a Bernoulli number. It is also true that the coefficients of the terms in such an expansion sum to 1, as stated by Bernoulli (Boyer 1943).\n",
        "\n",
        "Bernoulli used the property of the figurate number triangle that\n",
        "\n",
        "\\begin{aligned}\n",
        "\\sum_{i=0}^{n} a_{i j}=\\frac{(n+1) a_{n j}}{j+1} \\hspace{1em}(13)\n",
        "\\end{aligned}\n",
        "\n",
        "along with a form for \\\\(a_{(nj)}\\\\) which he derived inductively to compute the sums up to \\\\(n=10\\\\) (Boyer 1968, p. 85). For \\\\(p \\in Z>0\\\\), the sum is given by\n",
        "\n",
        "\\begin{aligned}\n",
        "\\sum_{k=1}^{n} k^{p}=\\frac{(B+n+1)^{[p+1]}-B^{[p+1]}}{p+1} \\hspace{1em}(14)\n",
        "\\end{aligned}\n",
        "\n",
        "where the notation \\\\(B^{[k]}\\\\) means the quantity in question is raised to the appropriate power \\\\(k\\\\), and all terms of the form \\\\(B^m\\\\) are replaced with the corresponding Bernoulli numbers \\\\(B_m\\\\). Written explicitly in terms of a sum of powers,\n",
        "\n",
        "\\begin{aligned}\n",
        "\\sum_{k=1}^{n} k^{p} &=n^{p}+\\sum_{k=0}^{p} \\frac{B_{k} p !}{k !(p-k+1) !} n^{p-k+1} \\hspace{1em}(15) \\\\\n",
        "&=\\sum_{k=1}^{p+1} \\frac{(-1)^{p-k+1} B_{p-k+1} p !}{k !(p-k+1) !} n^{k} \\hspace{1em}(16)\\\\\n",
        "&=\\sum_{k=1}^{p+1} b_{p k} n^{k} \\hspace{1em}(17)\n",
        "\\end{aligned}\n",
        "\n",
        "where\n",
        "\n",
        "\\begin{aligned}\n",
        "b_{p k}=\\frac{(-1)^{p-k+1} B_{p-k+1} p !}{k !(p-k+1) !} \\hspace{1em}(18)\n",
        "\\end{aligned}\n",
        "\n",
        "It is also true that the coefficients of the terms \\\\(b_{pk}\\\\) sum to 1,\n",
        "\n",
        "\\begin{aligned}\n",
        "\\sum_{k=1}^{p+1} b_{pk} = 1 \\hspace{1em}(19)\n",
        "\\end{aligned}\n",
        "\n",
        "which Bernoulli stated without proof.\n",
        "\n",
        "A double series solution for \\\\(S_p(n)\\\\) is given by\n",
        "\n",
        "\\begin{aligned}\n",
        "S_{p}(n)=\\sum_{i=1}^{p} \\sum_{j=0}^{i-1}(-1)^{j}(i-j)^{p}\\left(\\begin{array}{c}\n",
        "n+p-i+1 \\\\\n",
        "n-i\n",
        "\\end{array}\\right)\\left(\\begin{array}{c}\n",
        "p+1 \\\\\n",
        "j\n",
        "\\end{array}\\right) \\hspace{1em}(20)\n",
        "\\end{aligned}\n",
        "\n",
        "Computing the sums for \\\\(p=1\\\\), ..., 10 gives\n",
        "\n",
        "\\begin{array}{l}\n",
        "\\sum_{k=1}^{n} k=\\frac{1}{2}\\left(n^{2}+n\\right) \\hspace{1em}(21)\\\\\n",
        "\\sum_{k=1}^{n} k^{2}=\\frac{1}{6}\\left(2 n^{3}+3 n^{2}+n\\right) \\hspace{1em}(22) \\\\\n",
        "\\sum_{k=1}^{n} k^{3}=\\frac{1}{4}\\left(n^{4}+2 n^{3}+n^{2}\\right) \\hspace{1em}(23)\\\\\n",
        "\\sum_{k=1}^{n} k^{4}=\\frac{1}{30}\\left(6 n^{5}+15 n^{4}+10 n^{3}-n\\right) \\hspace{1em}(24)\\\\\n",
        "\\sum_{k=1}^{n} k^{5}=\\frac{1}{12}\\left(2 n^{6}+6 n^{5}+5 n^{4}-n^{2}\\right) \\hspace{1em}(25)\\\\\n",
        "\\sum_{k=1}^{n} k^{6}=\\frac{1}{42}\\left(6 n^{7}+21 n^{6}+21 n^{5}-7 n^{3}+n\\right) \\hspace{1em}(26)\\\\\n",
        "\\sum_{k=1}^{n} k^{7}=\\frac{1}{24}\\left(3 n^{8}+12 n^{7}+14 n^{6}-7 n^{4}+2 n^{2}\\right) \\hspace{1em}(27)\\\\\n",
        "\\sum_{k=1}^{n} k^{8}=\\frac{1}{90}\\left(10 n^{9}+45 n^{8}+60 n^{7}-42 n^{5}+20 n^{3}-3 n\\right) \\hspace{1em}(28)\\\\\n",
        "\\sum_{k=1}^{n} k^{9}=\\frac{1}{20}\\left(2 n^{10}+10 n^{9}+15 n^{8}-14 n^{6}+10 n^{4}-3 n^{2}\\right) \\hspace{1em}(29)\\\\\n",
        "\\sum_{k=1}^{n} k^{10}=\\frac{1}{66}\\left(6 n^{11}+33 n^{10}+55 n^{9}-66 n^{7}+66 n^{5}-33 n^{3}+5 n\\right) \\hspace{1em}(30)\n",
        "\\end{array}\n",
        "\n",
        "or in factored form,\n",
        "\n",
        "\\begin{array}{l}\n",
        "\\sum_{k=1}^{n} k=\\frac{1}{2} n(n+1) \\hspace{1em}(31)\\\\\n",
        "\\sum_{k=1}^{n} k^{2}=\\frac{1}{6} n(n+1)(2 n+1) \\hspace{1em}(32)\\\\\n",
        "\\sum_{k=1}^{n} k^{3}=\\frac{1}{4} n^{2}(n+1)^{2} \\hspace{1em}(33)\\\\\n",
        "\\sum_{k=1}^{n} k^{4}=\\frac{1}{30} n(n+1)(2 n+1)\\left(3 n^{2}+3 n-1\\right) \\hspace{1em}(34)\\\\\n",
        "\\sum_{k=1}^{n} k^{5}=\\frac{1}{12} n^{2}(n+1)^{2}\\left(2 n^{2}+2 n-1\\right) \\hspace{1em}(35)\\\\\n",
        "\\sum_{k=1}^{n} k^{6}=\\frac{1}{42} n(n+1)(2 n+1)\\left(3 n^{4}+6 n^{3}-3 n+1\\right) \\hspace{1em}(36)\\\\\n",
        "\\sum_{k=1}^{n} k^{7}=\\frac{1}{24} n^{2}(n+1)^{2}\\left(3 n^{4}+6 n^{3}-n^{2}-4 n+2\\right) \\hspace{1em}(37)\\\\\n",
        "\\sum_{k=1}^{n} k^{8}=\\frac{1}{90} n(n+1)(2 n+1)\\left(5 n^{6}+15 n^{5}+5 n^{4}-15 n^{3}-n^{2}+9 n-3\\right) \\hspace{1em}(38)\\\\\n",
        "\\sum_{k=1}^{n} k^{9}=\\frac{1}{20} n^{2}(n+1)^{2}\\left(n^{2}+n-1\\right)\\left(2 n^{4}+4 n^{3}-n^{2}-3 n+3\\right) \\hspace{1em}(39)\\\\ \n",
        "\\sum_{k=1}^{n} k^{10}=\\frac{1}{66} n(n+1)(2 n+1)\\left(n^{2}+n-1\\right)\\left(3 n^{6}+9 n^{5}+2 n^{4}-11 n^{3}+3 n^{2}+10 n-5\\right) \\hspace{1em}(40)\n",
        "\\end{array}\n",
        "\n",
        "(OEIS A064538 and A079618).\n",
        "\n",
        "![original image](https://cdn.mathpix.com/snip/images/NkA3bIwTrAbsxD5p8Po8DxY4OU95ojAkCwIRSXIrZzA.original.fullsize.png)\n",
        "\n",
        "A simple graphical proof of the special case of \\\\(S_1(n)=n(n+1)/2\\\\) can also be given by constructing a sequence of stacks of boxes, each 1 unit across and \\\\(k\\\\) units high, where \\\\(k=1, 2, ..., n\\\\). Now add a rotated copy on top, as in the above figure. Note that the resulting figure has width \\\\(n\\\\) and height \\\\(n+1\\\\), and so has area \\\\(n(n+1)\\\\). The desired sum is half this, so the area of the boxes in the sum is \\\\(n(n+1)/2\\\\). Since the boxes are of unit width, this is also the value of the sum.\n",
        "\n",
        "The sum \\\\(S_1(n)=n(n+1)/2\\\\) can also be computed using the first Euler-Maclaurin integration formula\n",
        "\n",
        "\\begin{aligned}\n",
        "\\sum_{k=1}^{n} f(k)=\\int_{1}^{n} f(x) d x+\\frac{1}{2} f(1)+\\frac{1}{2} f(n)+\\frac{1}{2 !} B_{2}\\left[f^{\\prime}(n)-f^{\\prime}(1)\\right]+\\ldots \\hspace{1em}(41)\n",
        "\\end{aligned}\n",
        "\n",
        "with \\\\(f(k)=k\\\\). Then\n",
        "\n",
        "\\begin{aligned}\n",
        "\\sum_{k=1}^{n} k &=\\int_{1}^{n} x d x+\\frac{1}{2} \\cdot 1+\\frac{1}{2} \\cdot n+\\frac{1}{6}(1-1)+\\ldots \\hspace{1em}(42)\\\\\n",
        "&=\\frac{1}{2}\\left(n^{2}-1\\right)-\\frac{1}{2}+h+\\frac{1}{2} n \\hspace{1em}(43)\\\\\n",
        "&=\\frac{1}{2} n(n+1) \\hspace{1em}(44)\n",
        "\\end{aligned}\n",
        "\n",
        "![original image](https://cdn.mathpix.com/snip/images/NaXIB7Va_8xKKv_o9nHqb5svME8V7TqSXbpKsLdcado.original.fullsize.png)\n",
        "\n",
        "The surprising identity\n",
        "\n",
        "\\begin{aligned}\n",
        "S_{3}(n) &=\\sum_{k=1}^{n} k^{3} \\hspace{1em}(45)\\\\\n",
        "&=\\left(\\sum_{k=1}^{n} k\\right)^{2} \\hspace{1em}(46)\n",
        "\\end{aligned}\n",
        "\n",
        "known as Nicomachus's theorem, can also be illustrated graphically (Wells 1991, pp. 198-199).\n",
        "\n",
        "Schultz (1980) showed that the sum \\\\(S_p(n)\\\\) can be found by writing\n",
        "\n",
        "\\begin{aligned}\n",
        "S_{p}(n)=c_{p+1} n^{p+1}+\\ldots+c_{1} n \\hspace{1em}(47)\n",
        "\\end{aligned}\n",
        "\n",
        "and solving the system of \\\\(p+1\\\\) equations\n",
        "\n",
        "\\begin{aligned}\n",
        "\\sum_{i=j+1}^{p+1}(-1)^{i-j+1}\\left(\\begin{array}{l}\n",
        "i \\\\\n",
        "j\n",
        "\\end{array}\\right) c_{i}=\\delta_{j, p} \\hspace{1em}(48)\n",
        "\\end{aligned}\n",
        "\n",
        "obtained for \\\\(j=0, 1, ..., p\\\\) (Guo and Qi 1999), where \\\\(\\delta_{j,p}\\\\) is the Kronecker delta. For example, the three equations to be solved for \\\\(p=2\\\\) are\n",
        "\n",
        "\\begin{aligned}\n",
        "\\begin{array}{l}\n",
        "0=c_{1}-c_{2}+c_{3} \\hspace{1em}(49)\\\\\n",
        "0=2 c_{2}-3 c_{3} \\hspace{1em}(50)\\\\\n",
        "1=3 c_{3} \\hspace{1em}(51)\n",
        "\\end{array}\n",
        "\\end{aligned}\n",
        "\n",
        "giving \\\\(c_1=1/6, c_2=1/2\\\\), and \\\\(c_3=1/3\\\\), or\n",
        "\n",
        "\\begin{aligned}\n",
        "S_{2}(n)=\\frac{1}{6} n+\\frac{1}{2} n^{2}+\\frac{1}{3} n^{3} \\hspace{1em}(52)\n",
        "\\end{aligned}\n",
        "\n",
        "as expected.\n",
        "\n",
        "\\\\(S_i(n)\\\\) is related to the binomial theorem by\n",
        "\n",
        "\\begin{aligned}\n",
        "(1+n)^{k+1}=1+\\sum_{i=0}^{k}\\left(\\begin{array}{c}\n",
        "k+1 \\\\\n",
        "i\n",
        "\\end{array}\\right) S_{i}(n) \\hspace{1em}(53)\n",
        "\\end{aligned}\n",
        "\n",
        "(Guo and Qi 1999).(Guo and Qi 1999)."
      ]
    },
    {
      "cell_type": "markdown",
      "metadata": {
        "id": "xlt3eQCcO_z8"
      },
      "source": [
        "### **EJEMPLO 1**\n",
        "Sumas de Cubos"
      ]
    },
    {
      "cell_type": "markdown",
      "metadata": {
        "id": "d2EA5thiPUX4"
      },
      "source": [
        "para $n = 50$"
      ]
    },
    {
      "cell_type": "code",
      "metadata": {
        "colab": {
          "base_uri": "https://localhost:8080/",
          "height": 310
        },
        "id": "bKKFIXp6NQHI",
        "outputId": "ed66901e-8092-4287-e5ef-73953f0d633e"
      },
      "source": [
        "import matplotlib.pyplot as plt\n",
        "S_n = 0\n",
        "Serie_S_n = []\n",
        "Sequence_a_n = []\n",
        "\n",
        "for i in range(1, 51):\n",
        "    S_n += i**(3)\n",
        "    Serie_S_n.append(S_n)\n",
        "    Sequence_a_n.append(i**(3))\n",
        "\n",
        "print(S_n)\n",
        "\n",
        "plt.plot(Serie_S_n, color='black',label='Serie_S_n')\n",
        "plt.plot(Sequence_a_n, color='red',label='Sequence_a_n')\n",
        "plt.legend()"
      ],
      "execution_count": 4,
      "outputs": [
        {
          "output_type": "stream",
          "name": "stdout",
          "text": [
            "1625625\n"
          ]
        },
        {
          "output_type": "execute_result",
          "data": {
            "text/plain": [
              "<matplotlib.legend.Legend at 0x7f1479268990>"
            ]
          },
          "metadata": {},
          "execution_count": 4
        },
        {
          "output_type": "display_data",
          "data": {
            "image/png": "[encoded data removed]",
            "text/plain": [
              "<Figure size 432x288 with 1 Axes>"
            ]
          },
          "metadata": {
            "needs_background": "light"
          }
        }
      ]
    },
    {
      "cell_type": "code",
      "metadata": {
        "colab": {
          "base_uri": "https://localhost:8080/"
        },
        "id": "pShTTs8dOKA3",
        "outputId": "6651d97d-f634-471a-ef07-dbea77034ef4"
      },
      "source": [
        "\n",
        "print((1/4)*((50**4)+ 2*(50**3)+(50**2)))"
      ],
      "execution_count": 6,
      "outputs": [
        {
          "output_type": "stream",
          "name": "stdout",
          "text": [
            "1625625.0\n"
          ]
        }
      ]
    },
    {
      "cell_type": "markdown",
      "metadata": {
        "id": "f13PiTBISgz6"
      },
      "source": [
        "### **EJEMPLO 2**"
      ]
    },
    {
      "cell_type": "code",
      "metadata": {
        "colab": {
          "base_uri": "https://localhost:8080/",
          "height": 293
        },
        "id": "IeVvaWjsR4oF",
        "outputId": "c357576f-b7bc-4e83-f46a-ea137949bb15"
      },
      "source": [
        "n = 30\n",
        "p = 5\n",
        "S_n = 0\n",
        "Serie_S_n=[]\n",
        "Sequence_a_n =[]\n",
        "for i in range(1,n+1):  \n",
        "  a_n = (i-1) ** p \n",
        "  S_n = S_n + a_n\n",
        "  Serie_S_n.append(S_n)\n",
        "  Sequence_a_n.append(a_n)\n",
        "\n",
        "plt.plot(Serie_S_n, color='black',label='Serie_S_n')\n",
        "plt.plot(Sequence_a_n, color='red',label='Sequence_a_n')\n",
        "plt.legend()"
      ],
      "execution_count": 7,
      "outputs": [
        {
          "output_type": "execute_result",
          "data": {
            "text/plain": [
              "<matplotlib.legend.Legend at 0x7f1478cd9d50>"
            ]
          },
          "metadata": {},
          "execution_count": 7
        },
        {
          "output_type": "display_data",
          "data": {
            "image/png": "[encoded data removed]",
            "text/plain": [
              "<Figure size 432x288 with 1 Axes>"
            ]
          },
          "metadata": {
            "needs_background": "light"
          }
        }
      ]
    }
  ]
}